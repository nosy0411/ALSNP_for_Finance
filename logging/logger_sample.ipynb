{
 "cells": [
  {
   "cell_type": "code",
   "execution_count": 1,
   "metadata": {
    "collapsed": true
   },
   "outputs": [],
   "source": [
    "class LogManager:\n",
    "    def __init__(self, host_name, instance_name, log_level, log_file_name):\n",
    "        self.host_name     = host_name\n",
    "        self.instance_name = instance_name\n",
    "        self.log_level     = log_level\n",
    "        self.log_file_name = log_file_name\n",
    "        self.logger_list   = []\n",
    "\n",
    "    def get_logger(self, logger_name):\n",
    "        logger = logging.getLogger(logger_name)\n",
    "        logger.propagate = 0 # 로그가 계속 전파되지 않도록 설정\n",
    "        logger.setLevel(self.get_loglevel()) # 로그레벨 설정\n",
    "        logger.addHandler(self.get_stream_handler())\n",
    "        logger.addHandler(self.get_file_handler())\n",
    "        self.logger_list.append(logger)\n",
    "        return logger\n",
    "        \n",
    "    def get_loglevel(self):\n",
    "        # https://docs.python.org/3/library/logging.html#levels 참고\n",
    "        # 'DEBUG', 'INFO', 'WARNING', 'ERROR', 'CRITICAL'\n",
    "        return self.log_level\n",
    "    \n",
    "    def set_loglevel(self, log_level):\n",
    "        self.log_level = log_level\n",
    "        for logger in self.logger_list: # 모든 로거의 레벨을 수정한다\n",
    "            logger.setLevel(self.get_loglevel()) # 로그레벨 설정            \n",
    "    \n",
    "    def get_stream_handler(self):\n",
    "        stream_handler = logging.StreamHandler()\n",
    "        stream_handler.setFormatter(self.get_my_log_format())\n",
    "        return stream_handler\n",
    "        \n",
    "    def get_file_handler(self):\n",
    "        file_handler = logging.FileHandler(self.log_file_name)\n",
    "        file_handler.setFormatter(self.get_my_log_format())\n",
    "        return file_handler\n",
    "    \n",
    "    def get_my_log_format(self):\n",
    "        # https://docs.python.org/3/library/logging.html#logging.Formatter 참고\n",
    "        return logging.Formatter('[%(asctime)s]'                # 일시\n",
    "                               + '[%(levelname)s]'              # 로그레벨\n",
    "                               + '[' + self.host_name + ']'     # 호스트명\n",
    "                               + '[' + self.instance_name + ']' # 인스턴스명\n",
    "                               + '[%(name)s]'                   # 로거 이름\n",
    "                               + '[%(funcName)s]'               # 함수명\n",
    "                               + '- %(message)s')               # 메시지"
   ]
  },
  {
   "cell_type": "code",
   "execution_count": 2,
   "metadata": {
    "collapsed": true
   },
   "outputs": [],
   "source": [
    "import logging\n",
    "import socket\n",
    "\n",
    "host_name     = socket.gethostname()\n",
    "instance_name = 'instance1'\n",
    "log_level     = logging.WARNING # 기본\n",
    "log_file_name = 'myapp' + '.log'\n",
    "\n",
    "logManager = LogManager(host_name=host_name, instance_name=instance_name, \\\n",
    "                        log_level=log_level, log_file_name=log_file_name)"
   ]
  },
  {
   "cell_type": "code",
   "execution_count": 3,
   "metadata": {
    "collapsed": true
   },
   "outputs": [],
   "source": [
    "logger = logManager.get_logger('Root')"
   ]
  },
  {
   "cell_type": "code",
   "execution_count": 4,
   "metadata": {
    "collapsed": true
   },
   "outputs": [],
   "source": [
    "def hi():\n",
    "    logger.info('Welcome to Python Log World.')"
   ]
  },
  {
   "cell_type": "code",
   "execution_count": 5,
   "metadata": {
    "collapsed": true
   },
   "outputs": [],
   "source": [
    "hi()"
   ]
  },
  {
   "cell_type": "code",
   "execution_count": 6,
   "metadata": {
    "collapsed": true
   },
   "outputs": [],
   "source": [
    "class MyClass:\n",
    "    def __init__(self, logManager):\n",
    "        self.logger = logManager.get_logger(self.__class__.__name__)\n",
    "    def hello(self):\n",
    "        self.logger.info('Welcome to Python Class Log World')"
   ]
  },
  {
   "cell_type": "code",
   "execution_count": 7,
   "metadata": {
    "collapsed": true
   },
   "outputs": [],
   "source": [
    "myClass = MyClass(logManager)\n",
    "myClass.hello()"
   ]
  },
  {
   "cell_type": "code",
   "execution_count": 8,
   "metadata": {
    "collapsed": true
   },
   "outputs": [],
   "source": [
    "# 로그레벨을 DEBUG로 변경한다\n",
    "logManager.set_loglevel(logging.DEBUG)"
   ]
  },
  {
   "cell_type": "code",
   "execution_count": 9,
   "metadata": {},
   "outputs": [
    {
     "name": "stderr",
     "output_type": "stream",
     "text": [
      "[2018-11-14 13:22:12,049][INFO][0f8786c9706c][instance1][Root][hi]- Welcome to Python Log World.\n"
     ]
    }
   ],
   "source": [
    "hi()"
   ]
  },
  {
   "cell_type": "code",
   "execution_count": 10,
   "metadata": {},
   "outputs": [
    {
     "name": "stderr",
     "output_type": "stream",
     "text": [
      "[2018-11-14 13:22:12,062][INFO][0f8786c9706c][instance1][MyClass][hello]- Welcome to Python Class Log World\n"
     ]
    }
   ],
   "source": [
    "myClass.hello()"
   ]
  },
  {
   "cell_type": "code",
   "execution_count": null,
   "metadata": {
    "collapsed": true
   },
   "outputs": [],
   "source": []
  }
 ],
 "metadata": {
  "anaconda-cloud": {},
  "kernelspec": {
   "display_name": "Python [default]",
   "language": "python",
   "name": "python3"
  },
  "language_info": {
   "codemirror_mode": {
    "name": "ipython",
    "version": 3
   },
   "file_extension": ".py",
   "mimetype": "text/x-python",
   "name": "python",
   "nbconvert_exporter": "python",
   "pygments_lexer": "ipython3",
   "version": "3.5.6"
  }
 },
 "nbformat": 4,
 "nbformat_minor": 2
}
